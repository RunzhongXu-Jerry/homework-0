{
 "cells": [
  {
   "cell_type": "markdown",
   "metadata": {},
   "source": [
    "推荐系统多路招回的融合排序\n",
    "1，推荐系统有多个环节，一般是先召回，再排序。排序必须先粗排，最后可精排（非必须，方法有DNN/wide&deep)。\n",
    "1.1召回策略有多种，而且一般使用多个召回策略，互相弥补不足。召回策略间没有什么关系，一般是并发多线程同时执行\n",
    "召回策略有：\n",
    "  1.实施召回,可以几秒钟内根据行为更新你的推荐列表，一般用U2I2I算法，在得到准时时报行为的列表，然后用U2I2I进行扩展，得到你可能喜欢的其他物品（新闻），和1 不同，2，3，4是提前计算好的召回策略\n",
    "  2，基于内容，U2Tag2I\n",
    "  3, 矩阵分解，U2I\n",
    "  4, 聚类推荐，U2U2I\n",
    " 1.2 粗排，融合排序就是把多种召回策略的内容融合为一个新的列表，为了降低后续计算量，将多个召回策略进行融合排序。\n",
    "   对于这个列表可以TOPON直接返回前端，也可以给精排。\n",
    " \n",
    " 这几天在忙考试，明天进行代码的补充。"
   ]
  },
  {
   "cell_type": "code",
   "execution_count": null,
   "metadata": {},
   "outputs": [],
   "source": []
  },
  {
   "cell_type": "code",
   "execution_count": null,
   "metadata": {},
   "outputs": [],
   "source": []
  }
 ],
 "metadata": {
  "kernelspec": {
   "display_name": "Python 3",
   "language": "python",
   "name": "python3"
  },
  "language_info": {
   "codemirror_mode": {
    "name": "ipython",
    "version": 3
   },
   "file_extension": ".py",
   "mimetype": "text/x-python",
   "name": "python",
   "nbconvert_exporter": "python",
   "pygments_lexer": "ipython3",
   "version": "3.8.5"
  }
 },
 "nbformat": 4,
 "nbformat_minor": 4
}
